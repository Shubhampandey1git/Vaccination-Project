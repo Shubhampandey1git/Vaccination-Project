{
 "cells": [
  {
   "cell_type": "markdown",
   "id": "041a90ac",
   "metadata": {},
   "source": [
    "# **Project Title - Vaccination Data Analysis and Visualization**"
   ]
  },
  {
   "cell_type": "markdown",
   "id": "92a81af4",
   "metadata": {},
   "source": [
    "#### **By Shubham Pandey**"
   ]
  },
  {
   "cell_type": "markdown",
   "id": "66b81109",
   "metadata": {},
   "source": [
    "#### **Problem Statement:**\n",
    "To understand the trends iin vaccination coverage, disease incidence, and effectiveness."
   ]
  },
  {
   "cell_type": "markdown",
   "id": "229d535b",
   "metadata": {},
   "source": [
    "#### **Github:** https://github.com/Shubhampandey1git/Vaccination-Project.git"
   ]
  },
  {
   "cell_type": "markdown",
   "id": "ea0a405d",
   "metadata": {},
   "source": []
  }
 ],
 "metadata": {
  "kernelspec": {
   "display_name": "virtual",
   "language": "python",
   "name": "python3"
  },
  "language_info": {
   "name": "python",
   "version": "3.10.9"
  }
 },
 "nbformat": 4,
 "nbformat_minor": 5
}
